{
 "cells": [
  {
   "cell_type": "markdown",
   "metadata": {},
   "source": [
    "# Technische Umsetzung des Modells\n",
    "\n",
    "Unser Computermodell besteht wie jedes biophysikalische Modell zum größte Teil aus Grundgedanken und Gleichungen. Lediglich für deren Lösung und eine entsprechende Visualisierung ist der Computer erforderlich. Diese Gleichungen lassen sich natürlich in (fast) jeder Programmiersprache implementieren.\n",
    "\n",
    "Wir haben unser Modell nach etwas herumprobieren in Python geschrieben. Python hat den Vorteil, dass es schnell zu lernen, Betriebssystem-unabhängig, und deshalb zum Beispiel auch auf den Computern in der Schule verfügbar ist. Zusätzlich existieren bereits zahlreiche Module (Programm-Bibliotheken) für die Modellierung von physikalischen und biologischen Systemen, die wir nutzen können.\n",
    "\n",
    "Konkret haben wir zum bauen und dokumentieren des Codes das sogenannte Jupyter Notebook verwendet. Ein Jupyter Notebook bietet die Möglichkeit, Programme in kleinen Abschnitten zu entwickeln, zu testen und dabei im bzw. um den Code herum gleich dessen Funktion zu dokumentieren."
   ]
  },
  {
   "cell_type": "markdown",
   "metadata": {},
   "source": [
    "## Ansehen und Ausführen unseres Codes\n",
    "\n",
    "Unser Modell ist in Form eines Notebooks, also als \\*.ipynb-Datei gespeichert. Zusätzlich gibt es eine \\*.py-Datei, die direkt in der Kommandozeile oder einem entsprechenden Editor ausgeführt werden kann.\n",
    "\n",
    "Jupyter Notebook lässt sich mithilfe von pip installieren:\n",
    "\n",
    "$\\$\\ pip\\ install\\ jupyter $\n",
    "\n",
    "Und anschließend aufrufen mit:\n",
    "\n",
    "$\\$\\ jupyter\\ notebook $\n",
    "\n",
    "Es öffnet sich im Browser ein Fenster, aus dem die gewünschte Datei angesehen, ausgeführt und bearbeitet werden kann. Wir empfehlen zum Nutzen unseres Modells etwas Erfahrung mit Python und/oder anderen Programmiersprachen."
   ]
  },
  {
   "cell_type": "markdown",
   "metadata": {},
   "source": [
    "## Open Source\n",
    "\n",
    "Der Code für unser Modell ist vollständig öffentlich und steht damit insbesondere anderen Schülern zur Verfügung."
   ]
  },
  {
   "cell_type": "code",
   "execution_count": null,
   "metadata": {},
   "outputs": [],
   "source": []
  }
 ],
 "metadata": {
  "kernelspec": {
   "display_name": "Python 3",
   "language": "python",
   "name": "python3"
  },
  "language_info": {
   "codemirror_mode": {
    "name": "ipython",
    "version": 3
   },
   "file_extension": ".py",
   "mimetype": "text/x-python",
   "name": "python",
   "nbconvert_exporter": "python",
   "pygments_lexer": "ipython3",
   "version": "3.5.2"
  }
 },
 "nbformat": 4,
 "nbformat_minor": 2
}
