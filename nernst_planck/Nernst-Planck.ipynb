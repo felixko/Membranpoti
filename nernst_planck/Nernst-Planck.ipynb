{
 "cells": [
  {
   "cell_type": "markdown",
   "metadata": {},
   "source": [
    "## Die Nernst-Planck Gleichung"
   ]
  },
  {
   "cell_type": "markdown",
   "metadata": {},
   "source": [
    "Die Nernst-Planck-Gleichung beschreibt über Teilchenzahl- bzw. Massenerhaltung die Bewegung von Ionen in Flüssigkeiten unter Einfluss eines elektrischen Feldes.\n",
    "\n",
    "Für ein externes elektrisches Feld \n",
    "\n",
    "$$ \\mathbf{E} = \\nabla \\phi − \\frac{\\partial{\\mathbf{A}}}{\\partial{t}}$$\n",
    "\n",
    "ergibt sich aus der Kontinuitätsgleichung\n",
    "\n",
    "$$\\frac{\\partial c}{\\partial t} = - \\nabla \\cdot J $$\n",
    "\n",
    "mit\n",
    "\n",
    "$$ J = - \\left[D  \\nabla c - u c + \\frac{Dze}{k_\\mathrm{B} T} c \\left(\\nabla \\phi+\\frac{\\partial \\mathbf A}{\\partial t} \\right) \\right]$$\n",
    "\n",
    "die Nernst-Planck-Gleichung\n",
    "\n",
    "$$\\frac{\\partial c}{\\partial t} = \\nabla \\cdot \\left[ D \\nabla c - u c + \\frac{Dze}{k_\\mathrm{B} T} c \\left(\\nabla \\phi+\\frac{\\partial \\mathbf A}{\\partial t} \\right) \\right] $$"
   ]
  },
  {
   "cell_type": "markdown",
   "metadata": {},
   "source": [
    "Dabei sind $\\mathbf{r}$ der Ort und $t$ die Zeit,<br />\n",
    "$c$ die Ionenkonzentration, wobei $c = c(\\mathbf{r}, t)$, mit dem entsprechenden Konzentrationsgradienten $\\nabla c$,<br />\n",
    "$u$ die Geschwindigkeit des Fluids,<br />\n",
    "$D$ der Diffusionskoeffizient,<br />\n",
    "$z$ die Wertigkeit der Ionenspezies,<br />\n",
    "$e$ die Elementarladung,<br />\n",
    "$k_\\mathrm{B}$ die Boltzmannkonstante,<br />\n",
    "$T$ die Temperatur,<br />\n",
    "sowie $\\phi$ das skalare und $\\mathbf{A}$ das elektromagnetische Vektorpotential."
   ]
  },
  {
   "cell_type": "code",
   "execution_count": null,
   "metadata": {},
   "outputs": [],
   "source": []
  },
  {
   "cell_type": "markdown",
   "metadata": {},
   "source": [
    "If the diffusing particles are themselves charged they are influenced by the electric field. Hence the Nernst–Planck equation is applied in describing the [[ion-exchange]] [[chemical kinetics|kinetics]] in soils.<ref name=Sparks1988>{{Cite book| last = Sparks | first =  D. L. | year = 1988 | title = Kinetics of Soil Chemical Processes | publisher=Academic Press, New York | pages = 101ff. }}</ref>\n",
    "\n",
    "Setting time derivatives to zero, and the fluid velocity to zero (only the ion species moves),\n",
    "\n",
    ":<math> J = -\\left[ D \\nabla c + \\frac{Dze}{k_\\mathrm{B} T}c(\\nabla \\phi+\\frac{\\partial \\mathbf A}{\\partial t}) \\right]</math>\n",
    "\n",
    "In the static electromagnetic conditions, one obtains the steady state Nernst–Planck equation\n",
    "\n",
    ":<math> J = -\\left[ D \\nabla c + \\frac{Dze}{k_B T}c(\\nabla \\phi) \\right]</math>\n",
    "\n",
    "Finally, in units of mol/(m<sup>2</sup>·s) and the gas constant R, one obtains the more familiar form:<ref>{{cite book|first=B. |last=Hille |year=1992 |title=Ionic Channels of Excitable Membranes |edition=2nd |publisher=Sinauer |location=Sunderland, MA |page=267}}</ref><ref>{{cite book|first=B. |last=Hille |year=1992 |title=Ionic Channels of Excitable Membranes |edition=3rd |publisher=Sinauer |location=Sunderland, MA |page=318}}</ref>\n",
    "\n",
    ":<math> J = -D\\left[ \\nabla c + \\frac{Fz}{RT}c(\\nabla \\phi) \\right]</math>\n",
    "where ''F'' is the Faraday constant equal to [[Avogadro's number|''N''<sub>A</sub>]][[Elementary charge|''e'']].\n"
   ]
  },
  {
   "cell_type": "code",
   "execution_count": null,
   "metadata": {},
   "outputs": [],
   "source": []
  },
  {
   "cell_type": "markdown",
   "metadata": {},
   "source": [
    "## Referenzen"
   ]
  },
  {
   "cell_type": "markdown",
   "metadata": {},
   "source": [
    "[1] https://en.wikipedia.org/wiki/Nernst%E2%80%93Planck_equation (November 27 2017)"
   ]
  }
 ],
 "metadata": {
  "kernelspec": {
   "display_name": "Python 3",
   "language": "python",
   "name": "python3"
  },
  "language_info": {
   "codemirror_mode": {
    "name": "ipython",
    "version": 3
   },
   "file_extension": ".py",
   "mimetype": "text/x-python",
   "name": "python",
   "nbconvert_exporter": "python",
   "pygments_lexer": "ipython3",
   "version": "3.5.2"
  }
 },
 "nbformat": 4,
 "nbformat_minor": 2
}
