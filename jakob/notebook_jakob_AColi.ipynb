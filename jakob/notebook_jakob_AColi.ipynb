{
 "cells": [
  {
   "cell_type": "markdown",
   "metadata": {},
   "source": [
    "# Mathematical description our model\n",
    "\n",
    "... as I understand it :)\n",
    "\n",
    "## Structure\n",
    "\n",
    "The following set of variables and equations is described for one ion species. It would be similar for multiple species, with the so far unknown part being how they influence each others rates across the membrane."
   ]
  },
  {
   "cell_type": "markdown",
   "metadata": {},
   "source": [
    "### Variables\n",
    "\n",
    "#### Time $\\:t$\n",
    "\n",
    "#### Concentrations $\\:c(t)$\n",
    "\n",
    "* Inside the cell $\\:c_{int}(t)$\n",
    "* Outside the cell $\\:c_{ext}(t)$\n",
    "\n",
    "$\\implies$ Which make the concentration gradient $$\\varDelta c = c_{int} - c_{ext} $$\n",
    "    \n",
    "#### (Diffusion-) Rates $\\:v(\\varDelta c,\\:...)$\n",
    "\n",
    "Where $v$ is the sum the rates across all membrane components, namely\n",
    "\n",
    "* Some base level rate for the rest of the membrane $\\:v_{mem}$\n",
    "* Respiratory chain $\\:v_{res}$\n",
    "* ATP-Synthetase $\\:v_{ATP}$\n",
    "* Channel of interest $\\:v_{ch}$\n",
    "\n",
    "$$\\implies v = \\sum_{i \\in C} v_i = v_{res} + v_{ATP} + v_{ch} + v_{mem} $$\n",
    "\n",
    "where we call the set of  $\\:(res,\\:ATP,\\:ch,\\:mem) = C$ and with the $v_i$ each directed inward."
   ]
  },
  {
   "cell_type": "markdown",
   "metadata": {},
   "source": [
    "### Parameters\n",
    "\n",
    "#### Volumes $\\:V$\n",
    "\n",
    "* Inside the cell $\\:V_{int}$\n",
    "* Outside the cell $\\:V_{ext}$\n",
    "\n",
    "with $V_{ext}$ being some fixed volume of effective distribution around the membrane."
   ]
  },
  {
   "cell_type": "markdown",
   "metadata": {},
   "source": [
    "### Equations\n",
    "\n",
    "The main idea is that the rate of movement across the membrane determines the concentration (gradient), which in turn changes the rates.\n",
    "\n",
    "Explicitly, the changes in concentration on the in- and outside $\\frac{\\partial c_{int}}{\\partial t}$ and $\\frac{\\partial c_{ext}}{\\partial t}$ correspond to\n",
    "\n",
    "$$\\frac{\\partial c_{int}}{\\partial t} = \\frac{v}{V_{int}} \\qquad \\mathrm{and} \\qquad \\frac{\\partial c_{ext}}{\\partial t} = - \\frac{v}{V_{ext}}$$\n"
   ]
  },
  {
   "cell_type": "markdown",
   "metadata": {},
   "source": [
    "For implementation, we introduce the spacial \"coordinate\" $x$ which can take the values 0 or 1 meaning inside or outside, respectively."
   ]
  },
  {
   "cell_type": "markdown",
   "metadata": {},
   "source": [
    "# Implementation"
   ]
  },
  {
   "cell_type": "code",
   "execution_count": 6,
   "metadata": {},
   "outputs": [],
   "source": [
    "import numpy as np\n",
    "from scipy.integrate import odeint"
   ]
  },
  {
   "cell_type": "markdown",
   "metadata": {},
   "source": [
    "## Parameters"
   ]
  },
  {
   "cell_type": "code",
   "execution_count": 45,
   "metadata": {},
   "outputs": [],
   "source": [
    "V = [5, 10]\n",
    "c_0 = [5, 10]\n",
    "\n",
    "a = 0.1"
   ]
  },
  {
   "cell_type": "markdown",
   "metadata": {},
   "source": [
    "## Functions"
   ]
  },
  {
   "cell_type": "code",
   "execution_count": 50,
   "metadata": {},
   "outputs": [],
   "source": [
    "def v(c):\n",
    "    gradc = c[1] - c[0]\n",
    "    return a * gradc\n",
    "\n",
    "def c(c, t):\n",
    "    dcdt = [v(c)/V[0], -v(c)/V[1]]\n",
    "    return dcdt"
   ]
  },
  {
   "cell_type": "markdown",
   "metadata": {},
   "source": [
    "## Integration"
   ]
  },
  {
   "cell_type": "code",
   "execution_count": 55,
   "metadata": {},
   "outputs": [],
   "source": [
    "t = np.linspace(0, 100, 1001)\n",
    "solution = odeint(c, c_0, t, args=())"
   ]
  },
  {
   "cell_type": "code",
   "execution_count": 56,
   "metadata": {},
   "outputs": [
    {
     "data": {
      "text/plain": [
       "array([[  5.        ,  10.        ],\n",
       "       [  5.00998503,   9.99500749],\n",
       "       [  5.01994014,   9.99002993],\n",
       "       ..., \n",
       "       [  8.16637778,   8.41681111],\n",
       "       [  8.16687789,   8.41656105],\n",
       "       [  8.16737651,   8.41631174]])"
      ]
     },
     "execution_count": 56,
     "metadata": {},
     "output_type": "execute_result"
    }
   ],
   "source": [
    "solution"
   ]
  },
  {
   "cell_type": "markdown",
   "metadata": {},
   "source": [
    "## Visualize"
   ]
  },
  {
   "cell_type": "code",
   "execution_count": null,
   "metadata": {},
   "outputs": [],
   "source": [
    "import matplotlib.pyplot as plt\n",
    "%matplotlib inline"
   ]
  },
  {
   "cell_type": "markdown",
   "metadata": {},
   "source": [
    "### Time-Concentration Diagram"
   ]
  },
  {
   "cell_type": "code",
   "execution_count": 58,
   "metadata": {},
   "outputs": [
    {
     "data": {
      "image/png": "[encoded data removed]",
      "text/plain": [
       "<matplotlib.figure.Figure at 0x7f930f7652b0>"
      ]
     },
     "metadata": {},
     "output_type": "display_data"
    }
   ],
   "source": [
    "fig, ax = plt.subplots(figsize=(12, 6))\n",
    "plt.plot(t, solution[:, 0], 'b', label='$c_{int}(t)$')\n",
    "plt.plot(t, solution[:, 1], 'g', label='$c_{ext}(t)$')\n",
    "plt.legend(loc='best')\n",
    "plt.xlabel('time $t$')\n",
    "plt.ylabel('concentrations $c$')\n",
    "plt.grid()\n",
    "plt.show()"
   ]
  },
  {
   "cell_type": "markdown",
   "metadata": {},
   "source": [
    "### Spatial Animation"
   ]
  },
  {
   "cell_type": "code",
   "execution_count": 65,
   "metadata": {},
   "outputs": [],
   "source": [
    "# Generate image array\n",
    "height = 400\n",
    "width = 400\n",
    "\n",
    "# Initialize array\n",
    "image = np.zeros((height, width))\n",
    "\n",
    "#\n",
    "image[int(height/2+10):int(height/2-10)] = 1"
   ]
  },
  {
   "cell_type": "code",
   "execution_count": 59,
   "metadata": {},
   "outputs": [
    {
     "ename": "NameError",
     "evalue": "name 'N_ROW' is not defined",
     "output_type": "error",
     "traceback": [
      "\u001b[0;31m---------------------------------------------------------------------------\u001b[0m",
      "\u001b[0;31mNameError\u001b[0m                                 Traceback (most recent call last)",
      "\u001b[0;32m<ipython-input-59-b3830c1732c1>\u001b[0m in \u001b[0;36m<module>\u001b[0;34m()\u001b[0m\n\u001b[1;32m      1\u001b[0m \u001b[0;31m# Make figure and animation\u001b[0m\u001b[0;34m\u001b[0m\u001b[0;34m\u001b[0m\u001b[0m\n\u001b[1;32m      2\u001b[0m \u001b[0mfig\u001b[0m \u001b[0;34m=\u001b[0m \u001b[0mplt\u001b[0m\u001b[0;34m.\u001b[0m\u001b[0mfigure\u001b[0m\u001b[0;34m(\u001b[0m\u001b[0;34m)\u001b[0m\u001b[0;34m\u001b[0m\u001b[0m\n\u001b[0;32m----> 3\u001b[0;31m \u001b[0max\u001b[0m \u001b[0;34m=\u001b[0m \u001b[0mplt\u001b[0m\u001b[0;34m.\u001b[0m\u001b[0maxes\u001b[0m\u001b[0;34m(\u001b[0m\u001b[0mxlim\u001b[0m\u001b[0;34m=\u001b[0m\u001b[0;34m(\u001b[0m\u001b[0;36m0\u001b[0m\u001b[0;34m,\u001b[0m \u001b[0mN_ROW\u001b[0m\u001b[0;34m)\u001b[0m\u001b[0;34m,\u001b[0m \u001b[0mylim\u001b[0m\u001b[0;34m=\u001b[0m\u001b[0;34m(\u001b[0m\u001b[0;36m0\u001b[0m\u001b[0;34m,\u001b[0m \u001b[0mN_COL\u001b[0m\u001b[0;34m)\u001b[0m\u001b[0;34m)\u001b[0m\u001b[0;34m\u001b[0m\u001b[0m\n\u001b[0m\u001b[1;32m      4\u001b[0m \u001b[0mim\u001b[0m\u001b[0;34m=\u001b[0m\u001b[0mplt\u001b[0m\u001b[0;34m.\u001b[0m\u001b[0mimshow\u001b[0m\u001b[0;34m(\u001b[0m\u001b[0mnp\u001b[0m\u001b[0;34m.\u001b[0m\u001b[0mzeros\u001b[0m\u001b[0;34m(\u001b[0m\u001b[0;34m(\u001b[0m\u001b[0mN_ROW\u001b[0m\u001b[0;34m,\u001b[0m \u001b[0mN_COL\u001b[0m\u001b[0;34m)\u001b[0m\u001b[0;34m)\u001b[0m\u001b[0;34m,\u001b[0m \u001b[0minterpolation\u001b[0m\u001b[0;34m=\u001b[0m\u001b[0;34m'none'\u001b[0m\u001b[0;34m,\u001b[0m \u001b[0mcmap\u001b[0m\u001b[0;34m=\u001b[0m\u001b[0;34m'seismic'\u001b[0m\u001b[0;34m,\u001b[0m \u001b[0mvmin\u001b[0m\u001b[0;34m=\u001b[0m\u001b[0;36m0\u001b[0m\u001b[0;34m,\u001b[0m \u001b[0mvmax\u001b[0m\u001b[0;34m=\u001b[0m\u001b[0;36m2\u001b[0m\u001b[0;34m)\u001b[0m\u001b[0;34m\u001b[0m\u001b[0m\n\u001b[1;32m      5\u001b[0m \u001b[0;34m\u001b[0m\u001b[0m\n",
      "\u001b[0;31mNameError\u001b[0m: name 'N_ROW' is not defined"
     ]
    },
    {
     "data": {
      "text/plain": [
       "<matplotlib.figure.Figure at 0x7f92ed94e9b0>"
      ]
     },
     "metadata": {},
     "output_type": "display_data"
    }
   ],
   "source": [
    "# Make figure and animation\n",
    "fig = plt.figure()\n",
    "im=plt.imshow(np.zeros((height, width)), interpolation='none', cmap='seismic', vmin=0, vmax=2)\n",
    "    \n",
    "# initialization function: plot the background of each frame\n",
    "def init():\n",
    "    im.set_data(np.zeros((N_ROW, N_COL)))\n",
    "    return [im]\n",
    "\n",
    "# animation function. This is called sequentially\n",
    "def animate(i):\n",
    "    im.set_array(frames[i])\n",
    "    return [im]\n",
    "\n",
    "# call the animator.  blit=True means only re-draw the parts that have changed.\n",
    "laenge = int(gesamtschritte/intervall)\n",
    "anim = animation.FuncAnimation(fig, animate, init_func=init, frames=laenge, interval=100, blit=True)\n",
    "#animation als *.mp4 speichern\n",
    "anim.save('CSC_animation_.mp4', fps=30, extra_args=['-vcodec', 'libx264'])"
   ]
  },
  {
   "cell_type": "code",
   "execution_count": null,
   "metadata": {},
   "outputs": [],
   "source": []
  }
 ],
 "metadata": {
  "kernelspec": {
   "display_name": "Python 3",
   "language": "python",
   "name": "python3"
  },
  "language_info": {
   "codemirror_mode": {
    "name": "ipython",
    "version": 3
   },
   "file_extension": ".py",
   "mimetype": "text/x-python",
   "name": "python",
   "nbconvert_exporter": "python",
   "pygments_lexer": "ipython3",
   "version": "3.5.2"
  }
 },
 "nbformat": 4,
 "nbformat_minor": 2
}
